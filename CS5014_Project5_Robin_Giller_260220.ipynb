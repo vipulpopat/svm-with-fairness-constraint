{
 "cells": [
  {
   "cell_type": "markdown",
   "metadata": {},
   "source": [
    "## Name: Robin Giller\n",
    "\n",
    "## Student ID: 18204902\n",
    "\n",
    "## CS_5014 Project 5"
   ]
  },
  {
   "cell_type": "markdown",
   "metadata": {},
   "source": [
    "# Description\n",
    "\n",
    "## Summary:\n",
    "This project focuses on support vector machines and the use of additional constraints to make their output more \"fair\" for samples with specific values of sensitive features. To fit the support vector classifier to the datasets tested, the CVXOPT optimiser is used and the dual form of the SVM optimisation problem is input to this. The dual form and the constraints for the standard SVM classifier and the \"fair\" SVM classifier are explained below. The standard SVM classifier implementation in CVXOPT has been provided as a reference for this project and the fair SVM classifier is implemented as a class. This class allows the use of both linear and non-linear kernels in the support vector machine. The fair SVM implementation is used to classify three separate data sets to compare the output behaviour for both standard and fair SVM.\n",
    "\n",
    "The section below outlines the theory underlying the dual form representation of the support vector machine.\n",
    "\n",
    "## Theory:\n",
    "The standard constrained optimisation problem is given as:\n",
    "\n",
    "minimise $Loss(x)$\n",
    "given constraints $g(x) \\leq 0$ and $h(x) = 0$\n",
    "\n",
    "For the soft margin SVM, the loss and constraint equations are below.\n",
    "\n",
    "### Loss: \n",
    "$L(w,\\epsilon) = \\dfrac{w^2}{2} + C \\sum_{i=1}^N(\\epsilon_i)$\n",
    "\n",
    "where $w$ is the optimisation parameter, $C$ is the regularisation constant and $\\epsilon$ penalises the number of data points falling inside the derived margin.\n",
    "\n",
    "### Constraints:\n",
    "\n",
    "(i) $1 - \\epsilon - y(wx + b) \\leq 0$\n",
    "\n",
    "(ii) $-\\sum_{i=1}^N(\\epsilon_i) \\leq 0$\n",
    "\n",
    "### Lagrangian and dual form:\n",
    "To solve this optimisation problem, the dual form of the Lagrangian can be derived as below. This is what the CVXOPT program optimises for:\n",
    "\n",
    "$$\n",
    "\\mathcal{L}(w,b,\\epsilon,\\alpha,\\beta) = \\dfrac{w^2}{2} + C \\sum_{i=1}^N(\\epsilon_i) + \\sum_{i=1}^N \\alpha_i [1 - \\epsilon - y(wx + b)]\n",
    "+ \\beta[-\\sum_{i=1}^N(\\epsilon_i)]\n",
    "$$\n",
    "\n",
    "Here $\\alpha$ and $\\beta$ are the Lagrangian multipliers for the respective inequality constraints. Using partial differentiation wrt to the optimisation parameters $w$, $b$ and $\\epsilon$, allows us to reduce this Lagrangian to the dual form as below\n",
    "\n",
    "$\\dfrac{\\partial \\mathcal{L}}{\\partial w} = w - \\sum_{i=1}^N \\alpha_i y_i x_i = 0$\n",
    "\n",
    "$\\therefore w = \\sum_{i=1}^N \\alpha_i y_i x_i$ \n",
    "\n",
    "\n",
    "$\\dfrac{\\partial \\mathcal{L}}{\\partial b} = - \\sum_{i=1}^N \\alpha_i y_i = 0$\n",
    "\n",
    "$\\therefore \\sum_{i=1}^N \\alpha_i y_i = 0$ \n",
    "\n",
    "\n",
    "$\\dfrac{\\partial \\mathcal{L}}{\\partial \\epsilon} = C - \\alpha - \\beta = 0$\n",
    "\n",
    "Since $\\beta \\geq 0$ by definition of lagrange multipliers, $C \\geq \\alpha$ becomes a further constraint in the dual form\n",
    "\n",
    "\n",
    "Substituting these formulae into the Lagrangian equation yields the dual form optimisation problem:\n",
    "\n",
    "$$\n",
    "maximise \\mathcal{L}(\\alpha) = \\sum_{i=1}^N \\alpha_i - \\dfrac{1}{2} \\sum_{i=1}^N \\sum_{j=1}^N \\alpha_i \\alpha_j y_i y_j x_i^T x_j\n",
    "$$\n",
    "\n",
    "or equivalently, replacing the $x_i^T x_j$ product with $K(x_i,x_j)$, where K defines the kernel operation (linear or non-linear)\n",
    "\n",
    "$$\n",
    "minimise \\mathcal{L}(\\alpha) = \\dfrac{1}{2} \\sum_{i=1}^N \\sum_{j=1}^N \\alpha_i \\alpha_j y_i y_j K(x_i,x_j) - \\sum_{i=1}^N \\alpha_i\n",
    "$$\n",
    "\n",
    "subject to\n",
    "\n",
    "$ 0 \\leq \\alpha \\leq C$ and $\\sum_{i=1}^N \\alpha_i y_i = 0$\n",
    "\n",
    "\n",
    "### CVXOPT translation:\n",
    "The above optimisation problem can easily be transformed into the standard form of the CVXOPT problem given by:\n",
    "\n",
    "\\begin{align*}\n",
    "&\\min\\limits_{{\\bf x}} \\frac{1}{2} {\\bf x}^T {\\bf P} {\\bf x} +  {\\bf q}^T{\\bf x}\\\\\n",
    "&s.t.\\\\\n",
    "& {\\bf G} {\\bf x}\\leq {\\bf h }\\\\\n",
    "&{\\bf A} {\\bf x}={\\bf b}\n",
    "\\end{align*}\n",
    "\n",
    "where ${\\bf P},{\\bf A}, {\\bf G}, {\\bf q}, {\\bf h}, {\\bf b}$ are given matrices (or vector ${\\bf q}, {\\bf h}, {\\bf b}$) of numbers.\n",
    "\n",
    "\n",
    "This defines the approach for numerical optimisation of the standard regularised SVM optimisation.\n",
    "\n",
    "## Fair SVM classification:\n",
    "For fair classification, additional constraints are added to the optimisation problem. A set of sensitive features are defined for the samples in the given dataset. The use of these features in the standard SVM classifier may introduce an unfair bias in the mean classification of samples with specific sensitive feature values (for example, the use of \"gender\" or \"race\" attributes to perform classification may have unfair biases built into the labelled training data). For the paper which forms the focus of this project, sensitive features are removed from the dataset before training and used to build a sensitive feature matrix $z$, which imposes constraints on the classification optimiser. For a specific data sample, the decision boundary fairness is measured using the covariance between the sample's sensitive features $z$ and the signed distance from the sample's feature vectors to the decision boundary.\n",
    "\n",
    "For linear models of classification, such as SVM in this case, the decision boundary is defined by the hyperplane $w^Tx = 0$, where $x$ is the sample's feature values. Given this boundary, the covariance between $z$ and $x$ for a sample reduces to \n",
    "\n",
    "$\\dfrac{1}{N}\\sum_{i=1}^N(z_i - \\bar{z}) wx_i$\n",
    "\n",
    "To impose a fairness constraint on the classification optimiser, this covariance is constrained to be contained within a defined threshold $c$. Thus the fair classifier imposes two additional constraints:\n",
    "\n",
    "(iii) $\\dfrac{1}{N}\\sum_{i=1}^N(z_i - \\bar{z}) wx_i - c \\leq 0$\n",
    "\n",
    "(iv) $-\\dfrac{1}{N}\\sum_{i=1}^N(z_i - \\bar{z}) wx_i - c \\leq 0$\n",
    "\n",
    "### Lagrangian dual form:\n",
    "To solve this new constrained optimisation problem, the dual form of the lagrangian is given by the formulae below. Note the correction of typo in the paper equation (10), where the optimisation problem involves minimising $-\\sum \\alpha$, rather than $+\\sum \\alpha$:\n",
    "\n",
    "minimise $-\\sum_{i=1}^N \\alpha_i + \\sum_{i=1}^N \\alpha_i y_i (g_{\\alpha} (x_i) + h_{\\alpha} (x_i))$\n",
    "\n",
    "subject to $\\alpha_i \\geq 0,$\n",
    "\n",
    "$\\sum_{i=1}^N \\alpha_i y_i = 0,$\n",
    "\n",
    "$\\dfrac{1}{N}\\sum_{i=1}^N(z_i - \\bar{z}) g_{\\alpha}(x_i) \\leq c,$\n",
    "\n",
    "$\\dfrac{1}{N}\\sum_{i=1}^N(z_i - \\bar{z}) g_{\\alpha}(x_i) \\geq -c$\n",
    "\n",
    "\n",
    "where $g_{\\alpha} (x_i) = \\sum_{j=1}^N \\alpha_j y_j K(x_i,x_j)$ and $h_{\\alpha}(x_i) = \\sum_{j=1}^N \\alpha_j y_j \\dfrac{1}{C} I$\n",
    "\n",
    "### In CVXOPT form:\n",
    "Converting to CVXOPT formulation:\n",
    "\n",
    "minimise $ \\alpha + \\dfrac{1}{2}\\alpha H \\alpha$\n",
    "\n",
    "where $ H = y_i y_j [K(x_i,x_j) + \\dfrac{1}{C} * I]$\n",
    "\n",
    "so in CVXOPT, $P = H, q = I, A = y, b = 0, $\n",
    "\n",
    "$G_1 = -I, h_1 = 0, $\n",
    "\n",
    "$G_2 = \\dfrac{1}{N}\\sum_{i=1}^N(z_i - \\bar{z}) y K(x_i,x_j), h_2 = c, $\n",
    "\n",
    "$G_3 = - \\dfrac{1}{N}\\sum_{i=1}^N(z_i - \\bar{z}) y K(x_i,x_j), h_3 = c$\n",
    "\n",
    "$G = [G_1, G_2, G_3]$ and $h = [h_1, h_2, h_3]$"
   ]
  },
  {
   "cell_type": "markdown",
   "metadata": {},
   "source": [
    "# Define Standard Hard and Soft Margin SVM Class with CVXOPT Implementation\n",
    "\n",
    "# Also define function to calculate p-rule, as described in the paper"
   ]
  },
  {
   "cell_type": "code",
   "execution_count": 8,
   "metadata": {},
   "outputs": [],
   "source": [
    "\n",
    "#from __future__ import division, print_function\n",
    "import numpy as np\n",
    "import cvxopt\n",
    "#from mlfromscratch.utils import train_test_split, normalize, accuracy_score\n",
    "#from mlfromscratch.utils.kernels import *\n",
    "#from mlfromscratch.utils import Plot\n",
    "\n",
    "def linear_kernel(**kwargs):\n",
    "    def f(x1, x2):\n",
    "        return np.inner(x1, x2)\n",
    "    return f\n",
    "\n",
    "\n",
    "def polynomial_kernel(power, coef, **kwargs):\n",
    "    def f(x1, x2):\n",
    "        return (np.inner(x1, x2) + coef)**power\n",
    "    return f\n",
    "\n",
    "\n",
    "def rbf_kernel(gamma, **kwargs):\n",
    "    def f(x1, x2):\n",
    "        distance = np.linalg.norm(x1 - x2) ** 2\n",
    "        return np.exp(-gamma * distance)\n",
    "    return f\n",
    "\n",
    "# Hide cvxopt output\n",
    "cvxopt.solvers.options['show_progress'] = False\n",
    "\n",
    "class SupportVectorMachine(object):\n",
    "    \"\"\"The Support Vector Machine classifier.\n",
    "    Uses cvxopt to solve the quadratic optimization problem.\n",
    "\n",
    "    Parameters:\n",
    "    -----------\n",
    "    C: float\n",
    "        Penalty term.\n",
    "    kernel: function\n",
    "        Kernel function. Can be either polynomial, rbf or linear.\n",
    "    power: int\n",
    "        The degree of the polynomial kernel. Will be ignored by the other\n",
    "        kernel functions.\n",
    "    gamma: float\n",
    "        Used in the rbf kernel function.\n",
    "    coef: float\n",
    "        Bias term used in the polynomial kernel function.\n",
    "    \"\"\"\n",
    "    def __init__(self, C=1, kernel=rbf_kernel, power=4, gamma=None, coef=4):\n",
    "        self.C = C\n",
    "        self.kernel = kernel\n",
    "        self.power = power\n",
    "        self.gamma = gamma\n",
    "        self.coef = coef\n",
    "        self.lagr_multipliers = None\n",
    "        self.support_vectors = None\n",
    "        self.support_vector_labels = None\n",
    "        self.intercept = None\n",
    "\n",
    "    def fit(self, X, y):\n",
    "\n",
    "        n_samples, n_features = np.shape(X)\n",
    "\n",
    "        # Set gamma to 1/n_features by default\n",
    "        if not self.gamma:\n",
    "            self.gamma = 1 / n_features\n",
    "\n",
    "        # Initialize kernel method with parameters\n",
    "        self.kernel = self.kernel(\n",
    "            power=self.power,\n",
    "            gamma=self.gamma,\n",
    "            coef=self.coef)\n",
    "\n",
    "        # Calculate kernel matrix\n",
    "        kernel_matrix = np.zeros((n_samples, n_samples))\n",
    "        for i in range(n_samples):\n",
    "            for j in range(n_samples):\n",
    "                kernel_matrix[i, j] = self.kernel(X[i], X[j])\n",
    "\n",
    "        # Define the quadratic optimization problem\n",
    "        P = cvxopt.matrix(np.outer(y, y) * kernel_matrix, tc='d')\n",
    "        q = cvxopt.matrix(np.ones(n_samples) * -1)\n",
    "        A = cvxopt.matrix(y*1., (1, n_samples), tc='d')\n",
    "        b = cvxopt.matrix(0, tc='d')\n",
    "\n",
    "        if not self.C:\n",
    "            G = cvxopt.matrix(np.identity(n_samples) * -1)\n",
    "            h = cvxopt.matrix(np.zeros(n_samples))\n",
    "        else:\n",
    "            G_max = np.identity(n_samples) * -1\n",
    "            G_min = np.identity(n_samples)\n",
    "            G = cvxopt.matrix(np.vstack((G_max, G_min)))\n",
    "            h_max = cvxopt.matrix(np.zeros(n_samples))\n",
    "            h_min = cvxopt.matrix(np.ones(n_samples) * self.C)\n",
    "            h = cvxopt.matrix(np.vstack((h_max, h_min)))\n",
    "\n",
    "        # Solve the quadratic optimization problem using cvxopt\n",
    "        minimization = cvxopt.solvers.qp(P, q, G, h, A, b)\n",
    "\n",
    "        # Lagrange multipliers\n",
    "        lagr_mult = np.ravel(minimization['x'])\n",
    "        self.all_multipliers = lagr_mult\n",
    "        #w parameter in vectorized form\n",
    "        #self.w = ((y * self.all_multipliers).T @ X).reshape(-1,1)\n",
    "\n",
    "        # Extract support vectors\n",
    "        # Get indexes of non-zero lagr. multipiers\n",
    "        idx = lagr_mult > 1e-4\n",
    "        # Get the corresponding lagr. multipliers\n",
    "        self.lagr_multipliers = lagr_mult[idx]\n",
    "        # Get the samples that will act as support vectors\n",
    "        self.support_vectors = X[idx]\n",
    "        # Get the corresponding labels\n",
    "        self.support_vector_labels = y[idx]\n",
    "        \n",
    "        self.w = ((y[idx] * self.lagr_multipliers).T @ X[idx]).reshape(-1,1)\n",
    "        \n",
    "        # Calculate intercept with first support vector\n",
    "        self.intercept = self.support_vector_labels[0]\n",
    "        for i in range(len(self.lagr_multipliers)):\n",
    "            self.intercept -= self.lagr_multipliers[i] * self.support_vector_labels[\n",
    "                i] * self.kernel(self.support_vectors[i], self.support_vectors[0])\n",
    "\n",
    "        #self.b = y[idx].reshape(-1,1) - np.dot(X[idx], self.w)\n",
    "        \n",
    "        # Calculate kernel matrix\n",
    "        kernel_matrix_sv = np.zeros((self.support_vectors.shape[0], self.support_vectors.shape[0]))\n",
    "        for i in range(self.lagr_multipliers.shape[0]):\n",
    "            for j in range(self.support_vectors.shape[0]):\n",
    "                kernel_matrix_sv[i, j] = self.kernel(self.support_vectors[i], self.support_vectors[j])\n",
    "                \n",
    "        self.b1 = self.support_vector_labels - self.support_vector_labels*self.lagr_multipliers@kernel_matrix_sv\n",
    "            \n",
    "    def predict(self, X):\n",
    "        y_pred = []\n",
    "        # Iterate through list of samples and make predictions\n",
    "        for sample in X:\n",
    "            prediction = 0\n",
    "            # Determine the label of the sample by the support vectors\n",
    "            for i in range(len(self.lagr_multipliers)):\n",
    "                prediction += self.lagr_multipliers[i] * self.support_vector_labels[\n",
    "                    i] * self.kernel(self.support_vectors[i], sample)\n",
    "            prediction += np.mean(self.b1)#self.intercept\n",
    "            y_pred.append(np.sign(prediction))\n",
    "        return np.array(y_pred)\n",
    "    \n",
    "def compute_p_rule(x_control, class_labels):\n",
    "\n",
    "    \"\"\" Compute the p-rule based on Doctrine of disparate impact \"\"\"\n",
    "\n",
    "    non_prot_all = sum(x_control == 1.0) # non-protected group\n",
    "    prot_all = sum(x_control == 0.0) # protected group\n",
    "    non_prot_pos = sum(class_labels[x_control == 1.0] == 1.0) # non_protected in positive class\n",
    "    prot_pos = sum(class_labels[x_control == 0.0] == 1.0) # protected in positive class\n",
    "    frac_non_prot_pos = float(non_prot_pos) / float(non_prot_all)\n",
    "    frac_prot_pos = float(prot_pos) / float(prot_all)\n",
    "    p_rule = (frac_prot_pos / frac_non_prot_pos) * 100.0\n",
    "    #print\n",
    "    #print \"Total data points: %d\" % (len(x_control))\n",
    "    #print \"# non-protected examples: %d\" % (non_prot_all)\n",
    "    #print \"# protected examples: %d\" % (prot_all)\n",
    "    #print \"Non-protected in positive class: %d (%0.0f%%)\" % (non_prot_pos, non_prot_pos * 100.0 / non_prot_all)\n",
    "    #print \"Protected in positive class: %d (%0.0f%%)\" % (prot_pos, prot_pos * 100.0 / prot_all)\n",
    "    #print \"P-rule is: %0.0f%%\" % ( p_rule )\n",
    "    return p_rule"
   ]
  },
  {
   "cell_type": "markdown",
   "metadata": {},
   "source": [
    "## Test the standard SVM class on Breast Cancer Dataset and compare with sklearn"
   ]
  },
  {
   "cell_type": "code",
   "execution_count": 9,
   "metadata": {},
   "outputs": [],
   "source": [
    "from sklearn import datasets\n",
    "\n",
    "#Load dataset\n",
    "cancer = datasets.load_breast_cancer()\n",
    "from sklearn.model_selection import train_test_split\n",
    "\n",
    "# Split dataset into training set and test set\n",
    "X_train, X_test, y_train, y_test = train_test_split(cancer.data, cancer.target, test_size=0.3,random_state=109) # 70% training and 30% test\n",
    "\n",
    "y_train=np.where(y_train==0,-1,1)\n",
    "y_test=np.where(y_test==0,-1,1)"
   ]
  },
  {
   "cell_type": "code",
   "execution_count": 10,
   "metadata": {},
   "outputs": [],
   "source": [
    "from sklearn import svm\n",
    "\n",
    "#Create a svm Classifier\n",
    "clf = svm.SVC(kernel='linear') # Linear Kernel\n",
    "\n",
    "#Train the model using the training sets\n",
    "clf.fit(X_train, y_train)\n",
    "\n",
    "y_pred = clf.predict(X_test)\n"
   ]
  },
  {
   "cell_type": "code",
   "execution_count": 11,
   "metadata": {},
   "outputs": [
    {
     "name": "stdout",
     "output_type": "stream",
     "text": [
      "Accuracy: 0.9649122807017544\n"
     ]
    }
   ],
   "source": [
    "from sklearn import metrics\n",
    "\n",
    "# Model Accuracy: how often is the classifier correct?\n",
    "print(\"Accuracy:\",metrics.accuracy_score(y_test, y_pred))"
   ]
  },
  {
   "cell_type": "code",
   "execution_count": 12,
   "metadata": {},
   "outputs": [],
   "source": [
    "# Create CVXOPT SVM instance, fit to train data and test on test data\n",
    "clf1 = SupportVectorMachine(kernel=linear_kernel) # Linear Kernel\n",
    "\n",
    "#Train the model using the training sets\n",
    "clf1.fit(X_train, y_train)\n",
    "\n",
    "y_pred = clf1.predict(X_test)"
   ]
  },
  {
   "cell_type": "code",
   "execution_count": 13,
   "metadata": {},
   "outputs": [
    {
     "name": "stdout",
     "output_type": "stream",
     "text": [
      "Accuracy of model: 96.49122807017544%\n"
     ]
    }
   ],
   "source": [
    "acc = np.sum(y_test==y_pred)/y_test.shape[0]\n",
    "print(f\"Accuracy of model: {acc*100}%\")"
   ]
  },
  {
   "cell_type": "markdown",
   "metadata": {},
   "source": [
    "## Accuracy of CVXOPT SVM is the same as sklearn\n",
    "\n",
    "## Next generate synthetic data from fairness paper and fit with standard and fair SVM"
   ]
  },
  {
   "cell_type": "code",
   "execution_count": 14,
   "metadata": {},
   "outputs": [],
   "source": [
    "import math\n",
    "import numpy as np\n",
    "import matplotlib.pyplot as plt # for plotting stuff\n",
    "from random import seed, shuffle\n",
    "from scipy.stats import multivariate_normal # generating synthetic data\n",
    "SEED = 1122334455\n",
    "seed(SEED) # set the random seed so that the random permutations can be reproduced again\n",
    "np.random.seed(SEED)\n",
    "\n",
    "def generate_synthetic_data(plot_data=False, denominator = 4):\n",
    "\n",
    "    \"\"\"\n",
    "        Code for generating the synthetic data.\n",
    "        We will have two non-sensitive features and one sensitive feature.\n",
    "        A sensitive feature value of 0.0 means the example is considered to be in protected group (e.g., female) and 1.0 means it's in non-protected group (e.g., male).\n",
    "        Denominator is the constant divider of pi that is used to generate discrimination in the synthetic data\n",
    "    \"\"\"\n",
    "\n",
    "    n_samples = 1000 # generate these many data points per class\n",
    "    disc_factor = math.pi / denominator # this variable determines the initial discrimination in the data -- decraese it to generate more discrimination\n",
    "\n",
    "    def gen_gaussian(mean_in, cov_in, class_label):\n",
    "        nv = multivariate_normal(mean = mean_in, cov = cov_in)\n",
    "        X = nv.rvs(n_samples)\n",
    "        y = np.ones(n_samples, dtype=float) * class_label\n",
    "        return nv,X,y\n",
    "\n",
    "    \"\"\" Generate the non-sensitive features randomly \"\"\"\n",
    "    # We will generate one gaussian cluster for each class\n",
    "    mu1, sigma1 = [2, 2], [[5, 1], [1, 5]]\n",
    "    mu2, sigma2 = [-2,-2], [[10, 1], [1, 3]]\n",
    "    nv1, X1, y1 = gen_gaussian(mu1, sigma1, 1) # positive class\n",
    "    nv2, X2, y2 = gen_gaussian(mu2, sigma2, -1) # negative class\n",
    "\n",
    "    # join the posisitve and negative class clusters\n",
    "    X = np.vstack((X1, X2))\n",
    "    y = np.hstack((y1, y2))\n",
    "\n",
    "    # shuffle the data\n",
    "    perm = [i for i in range(0,n_samples*2)]\n",
    "    #perm = range(0,n_samples*2)\n",
    "    shuffle(perm)\n",
    "    X = X[perm]\n",
    "    y = y[perm]\n",
    "    \n",
    "    rotation_mult = np.array([[math.cos(disc_factor), -math.sin(disc_factor)], [math.sin(disc_factor), math.cos(disc_factor)]])\n",
    "    X_aux = np.dot(X, rotation_mult)\n",
    "\n",
    "\n",
    "    \"\"\" Generate the sensitive feature here \"\"\"\n",
    "    x_control = [] # this array holds the sensitive feature value\n",
    "    for i in range (0, len(X)):\n",
    "        x = X_aux[i]\n",
    "\n",
    "        # probability for each cluster that the point belongs to it\n",
    "        p1 = nv1.pdf(x)\n",
    "        p2 = nv2.pdf(x)\n",
    "        \n",
    "        # normalize the probabilities from 0 to 1\n",
    "        s = p1+p2\n",
    "        p1 = p1/s\n",
    "        p2 = p2/s\n",
    "        \n",
    "        r = np.random.uniform() # generate a random number from 0 to 1\n",
    "\n",
    "        if r < p1: # the first cluster is the positive class\n",
    "            x_control.append(1.0) # 1.0 means its male\n",
    "        else:\n",
    "            x_control.append(0.0) # 0.0 -> female\n",
    "\n",
    "    x_control = np.array(x_control)\n",
    "\n",
    "    \"\"\" Show the data \"\"\"\n",
    "    if plot_data:\n",
    "        num_to_draw = 200 # we will only draw a small number of points to avoid clutter\n",
    "        x_draw = X[:num_to_draw]\n",
    "        y_draw = y[:num_to_draw]\n",
    "        x_control_draw = x_control[:num_to_draw]\n",
    "\n",
    "        X_s_0 = x_draw[x_control_draw == 0.0]\n",
    "        X_s_1 = x_draw[x_control_draw == 1.0]\n",
    "        y_s_0 = y_draw[x_control_draw == 0.0]\n",
    "        y_s_1 = y_draw[x_control_draw == 1.0]\n",
    "        plt.scatter(X_s_0[y_s_0==1.0][:, 0], X_s_0[y_s_0==1.0][:, 1], color='green', marker='x', s=30, linewidth=1.5, label= \"Prot. +ve\")\n",
    "        plt.scatter(X_s_0[y_s_0==-1.0][:, 0], X_s_0[y_s_0==-1.0][:, 1], color='red', marker='x', s=30, linewidth=1.5, label = \"Prot. -ve\")\n",
    "        plt.scatter(X_s_1[y_s_1==1.0][:, 0], X_s_1[y_s_1==1.0][:, 1], color='green', marker='o', facecolors='none', s=30, label = \"Non-prot. +ve\")\n",
    "        plt.scatter(X_s_1[y_s_1==-1.0][:, 0], X_s_1[y_s_1==-1.0][:, 1], color='red', marker='o', facecolors='none', s=30, label = \"Non-prot. -ve\")\n",
    "\n",
    "        \n",
    "        plt.tick_params(axis='x', which='both', bottom='off', top='off', labelbottom='off') # dont need the ticks to see the data distribution\n",
    "        plt.tick_params(axis='y', which='both', left='off', right='off', labelleft='off')\n",
    "        plt.legend(loc=2, fontsize=15)\n",
    "        plt.xlim((-15,10))\n",
    "        plt.ylim((-10,15))\n",
    "        plt.savefig(\"img/data.png\")\n",
    "        plt.show()\n",
    "\n",
    "    x_control = {\"s1\": x_control} # all the sensitive features are stored in a dictionary\n",
    "    return X,y,x_control"
   ]
  },
  {
   "cell_type": "code",
   "execution_count": 15,
   "metadata": {},
   "outputs": [
    {
     "name": "stderr",
     "output_type": "stream",
     "text": [
      "C:\\Users\\rgiller\\AppData\\Local\\Continuum\\anaconda3\\lib\\site-packages\\matplotlib\\cbook\\__init__.py:424: MatplotlibDeprecationWarning: \n",
      "Passing one of 'on', 'true', 'off', 'false' as a boolean is deprecated; use an actual boolean (True/False) instead.\n",
      "  warn_deprecated(\"2.2\", \"Passing one of 'on', 'true', 'off', 'false' as a \"\n"
     ]
    },
    {
     "data": {
      "image/png": "[encoded data removed]",
      "text/plain": [
       "<Figure size 432x288 with 1 Axes>"
      ]
     },
     "metadata": {},
     "output_type": "display_data"
    }
   ],
   "source": [
    "# Create synthetic data (X), labels (y) and sensitive features (x_control) - data for low discrimination (pi/4)\n",
    "X_low,y_low,x_control_low = generate_synthetic_data(True, 4)"
   ]
  },
  {
   "cell_type": "code",
   "execution_count": 16,
   "metadata": {},
   "outputs": [
    {
     "data": {
      "image/png": "[encoded data removed]",
      "text/plain": [
       "<Figure size 432x288 with 1 Axes>"
      ]
     },
     "metadata": {},
     "output_type": "display_data"
    }
   ],
   "source": [
    "# Create synthetic data (X), labels (y) and sensitive features (x_control) - data for high discrimination (pi/8)\n",
    "X_hi,y_hi,x_control_hi = generate_synthetic_data(True, 8)"
   ]
  },
  {
   "cell_type": "markdown",
   "metadata": {},
   "source": [
    "## Fit standard SVM with linear kernel to synthetic data and compare with sklearn SVM. Print the parameters to compare"
   ]
  },
  {
   "cell_type": "code",
   "execution_count": 17,
   "metadata": {},
   "outputs": [],
   "source": [
    "# Fit cvxopt implementation\n",
    "clf2 = SupportVectorMachine(kernel=linear_kernel)\n",
    "clf2.fit(X_low, y_low)"
   ]
  },
  {
   "cell_type": "code",
   "execution_count": 18,
   "metadata": {
    "scrolled": true
   },
   "outputs": [
    {
     "name": "stdout",
     "output_type": "stream",
     "text": [
      "Accuracy: 0.8695\n"
     ]
    }
   ],
   "source": [
    "# Model Accuracy: how often is the classifier correct?\n",
    "print(\"Accuracy:\",metrics.accuracy_score(y_low, clf2.predict(X_low)))"
   ]
  },
  {
   "cell_type": "code",
   "execution_count": 19,
   "metadata": {},
   "outputs": [
    {
     "name": "stdout",
     "output_type": "stream",
     "text": [
      "Accuracy: 0.866\n"
     ]
    }
   ],
   "source": [
    "# Fit the sklearn implementation\n",
    "clf.fit(X_low, y_low)\n",
    "\n",
    "print(\"Accuracy:\",metrics.accuracy_score(y_low, clf.predict(X_low)))"
   ]
  },
  {
   "cell_type": "code",
   "execution_count": 20,
   "metadata": {},
   "outputs": [
    {
     "name": "stdout",
     "output_type": "stream",
     "text": [
      "Sklearn intercept =  [-0.00913818]\n",
      "Sklearn weights =  [0.2757715  0.58106685]\n"
     ]
    }
   ],
   "source": [
    "# Print sklearn weights and intercept\n",
    "print(\"Sklearn intercept = \",clf.intercept_)\n",
    "print(\"Sklearn weights = \",clf.coef_.flatten())"
   ]
  },
  {
   "cell_type": "code",
   "execution_count": 21,
   "metadata": {},
   "outputs": [
    {
     "name": "stdout",
     "output_type": "stream",
     "text": [
      "cvxopt intercept =  0.0587333824271059\n",
      "cvxopt weights =  [0.27577177 0.58119972]\n"
     ]
    }
   ],
   "source": [
    "# Print cvxopt weights and intercept\n",
    "print(\"cvxopt intercept = \",np.mean(clf2.b1))\n",
    "print(\"cvxopt weights = \",clf2.w.flatten())"
   ]
  },
  {
   "cell_type": "markdown",
   "metadata": {},
   "source": [
    "## Draw the decision boundary calculated by CVXOPT standard soft margin SVM and compare with sklearn"
   ]
  },
  {
   "cell_type": "code",
   "execution_count": 22,
   "metadata": {},
   "outputs": [
    {
     "data": {
      "text/plain": [
       "<matplotlib.legend.Legend at 0x1ff7b5a7fd0>"
      ]
     },
     "execution_count": 22,
     "metadata": {},
     "output_type": "execute_result"
    },
    {
     "data": {
      "image/png": "[encoded data removed]",
      "text/plain": [
       "<Figure size 432x288 with 1 Axes>"
      ]
     },
     "metadata": {
      "needs_background": "light"
     },
     "output_type": "display_data"
    }
   ],
   "source": [
    "xfit = np.linspace(-15, 10)\n",
    "# Plot labelled points\n",
    "plt.scatter(X_low[:, 0], X_low[:, 1], c=y_low, s=50, cmap='autumn')\n",
    "\n",
    "# Plot cvx decision boundary\n",
    "plt.plot(xfit, (-clf2.w[0,0] * xfit-np.mean(clf2.b1))/clf2.w[1,0], '-k', label = \"cvx\")\n",
    "\n",
    "# Plot sklearn decision boundary\n",
    "plt.plot(xfit, (-clf.coef_[0,0] * xfit-clf.intercept_[0])/clf.coef_[0,1], '-b', label = \"sklearn\")\n",
    "\n",
    "plt.xlim(-15, 10);\n",
    "plt.title(\"Linear SVM decision boundary for sklearn and cvxopt implementations\")\n",
    "plt.legend()"
   ]
  },
  {
   "cell_type": "markdown",
   "metadata": {},
   "source": [
    "## Decision threshold and model parameters are the same for sklearn and cvxopt implementations\n",
    "\n",
    "## Next define the sensitive features and the fair SVM class"
   ]
  },
  {
   "cell_type": "code",
   "execution_count": 23,
   "metadata": {},
   "outputs": [],
   "source": [
    "# z_normal is z - z_bar\n",
    "z_low_normal = x_control_low[\"s1\"]-np.mean(x_control_low[\"s1\"])"
   ]
  },
  {
   "cell_type": "code",
   "execution_count": 24,
   "metadata": {},
   "outputs": [],
   "source": [
    "# reshape y and z to single column vector\n",
    "#y_low = y_low.reshape(-1,1)\n",
    "#z_low_normal = z_low_normal.reshape(-1,1)"
   ]
  },
  {
   "cell_type": "code",
   "execution_count": 95,
   "metadata": {},
   "outputs": [],
   "source": [
    "class Fair_SupportVectorMachine(object):\n",
    "    \"\"\"The Support Vector Machine classifier.\n",
    "    Uses cvxopt to solve the quadratic optimization problem.\n",
    "\n",
    "    Parameters:\n",
    "    -----------\n",
    "    C: float\n",
    "        Penalty term.\n",
    "    kernel: function\n",
    "        Kernel function. Can be either polynomial, rbf or linear.\n",
    "    power: int\n",
    "        The degree of the polynomial kernel. Will be ignored by the other\n",
    "        kernel functions.\n",
    "    gamma: float\n",
    "        Used in the rbf kernel function.\n",
    "    coef: float\n",
    "        Bias term used in the polynomial kernel function.\n",
    "    \"\"\"\n",
    "    def __init__(self, C=1.0, kernel=rbf_kernel, power=4, gamma=None, coef=4):\n",
    "        self.C = C\n",
    "        self.kernel = kernel\n",
    "        self.power = power\n",
    "        self.gamma = gamma\n",
    "        self.coef = coef\n",
    "        self.lagr_multipliers = None\n",
    "        self.support_vectors = None\n",
    "        self.support_vector_labels = None\n",
    "        self.intercept = None\n",
    "\n",
    "    def fit(self, X, y, z, c):\n",
    "\n",
    "        n_samples, n_features = np.shape(X)\n",
    "\n",
    "        # Set gamma to 1/n_features by default\n",
    "        if not self.gamma:\n",
    "            self.gamma = 1 / n_features\n",
    "\n",
    "        # Initialize kernel method with parameters\n",
    "        self.kernel = self.kernel(\n",
    "            power=self.power,\n",
    "            gamma=self.gamma,\n",
    "            coef=self.coef)\n",
    "\n",
    "        # Calculate kernel matrix k and constraint matrix g\n",
    "        kernel_matrix = np.zeros((n_samples, n_samples))\n",
    "        constraint_matrix = np.zeros((n_samples, n_samples))\n",
    "        for i in range(n_samples):\n",
    "            for j in range(n_samples):\n",
    "                kernel_matrix[i, j] = self.kernel(X[i], X[j])\n",
    "                constraint_matrix[i,j] = z[i]*y[j]*kernel_matrix[i,j]\n",
    "\n",
    "        # Define the quadratic optimization problem\n",
    "        P = cvxopt.matrix(((np.outer(y,y))*(kernel_matrix+(1/self.C)*(np.eye(n_samples)))), tc='d')\n",
    "        q = cvxopt.matrix(-np.ones(n_samples))\n",
    "        A = cvxopt.matrix(y, (1, n_samples), tc='d')\n",
    "        b = cvxopt.matrix(0, tc='d')\n",
    "\n",
    "        G_1 = np.identity(n_samples) * -1\n",
    "        G_2 = (constraint_matrix)#*(1/n_samples)\n",
    "        G_3 = -(constraint_matrix)#*(1/n_samples)\n",
    "        G_4 = np.identity(n_samples)\n",
    "        G = cvxopt.matrix(np.vstack((G_1, G_2, G_3)))\n",
    "        h_1 = cvxopt.matrix(np.zeros(n_samples))\n",
    "        h_2 = cvxopt.matrix(np.ones(n_samples) * c)\n",
    "        h_3 = cvxopt.matrix(np.ones(n_samples) * c)\n",
    "        h_4 = cvxopt.matrix(np.ones(n_samples) * self.C)\n",
    "        h = cvxopt.matrix(np.vstack((h_1, h_2, h_3)))\n",
    "\n",
    "        # Solve the quadratic optimization problem using cvxopt\n",
    "        minimization = cvxopt.solvers.qp(P, q, G, h, A, b)\n",
    "\n",
    "        # Lagrange multipliers\n",
    "        lagr_mult = np.ravel(minimization['x'])\n",
    "        self.all_multipliers = lagr_mult\n",
    "        #w parameter in vectorized form\n",
    "        #self.w = ((y * self.all_multipliers).T @ X).reshape(-1,1)\n",
    "\n",
    "        # Extract support vectors\n",
    "        # Get indexes of non-zero lagr. multipiers\n",
    "        idx = lagr_mult > 1e-4\n",
    "        # Get the corresponding lagr. multipliers\n",
    "        self.lagr_multipliers = lagr_mult[idx]\n",
    "        # Get the samples that will act as support vectors\n",
    "        self.support_vectors = X[idx]\n",
    "        # Get the corresponding labels\n",
    "        self.support_vector_labels = y[idx]\n",
    "        \n",
    "        self.w = ((y[idx] * self.lagr_multipliers).T @ X[idx]).reshape(-1,1)\n",
    "        \n",
    "        # Calculate intercept with first support vector\n",
    "        self.intercept = self.support_vector_labels[0]\n",
    "        for i in range(len(self.lagr_multipliers)):\n",
    "            self.intercept -= self.lagr_multipliers[i] * self.support_vector_labels[\n",
    "                i] * self.kernel(self.support_vectors[i], self.support_vectors[0])\n",
    "\n",
    "        #self.b = y[idx].reshape(-1,1) - np.dot(X[idx], self.w)\n",
    "        \n",
    "        # Calculate kernel matrix\n",
    "        kernel_matrix_sv = np.zeros((self.support_vectors.shape[0], self.support_vectors.shape[0]))\n",
    "        for i in range(self.lagr_multipliers.shape[0]):\n",
    "            for j in range(self.support_vectors.shape[0]):\n",
    "                kernel_matrix_sv[i, j] = self.kernel(self.support_vectors[i], self.support_vectors[j])\n",
    "                \n",
    "        self.b1 = self.support_vector_labels - self.support_vector_labels*self.lagr_multipliers@kernel_matrix_sv\n",
    "            \n",
    "    def predict(self, X):\n",
    "        y_pred = []\n",
    "        # Iterate through list of samples and make predictions\n",
    "        for sample in X:\n",
    "            prediction = 0\n",
    "            # Determine the label of the sample by the support vectors\n",
    "            for i in range(len(self.lagr_multipliers)):\n",
    "                prediction += self.lagr_multipliers[i] * self.support_vector_labels[\n",
    "                    i] * self.kernel(self.support_vectors[i], sample)\n",
    "            prediction += np.mean(self.b1)#self.intercept\n",
    "            y_pred.append(np.sign(prediction))\n",
    "        return np.array(y_pred)"
   ]
  },
  {
   "cell_type": "markdown",
   "metadata": {},
   "source": [
    "## Test the fair SVM on the low discrimination synthetic data and compare with the sklearn unfair SVM"
   ]
  },
  {
   "cell_type": "code",
   "execution_count": 96,
   "metadata": {},
   "outputs": [],
   "source": [
    "fair_SVM_low = Fair_SupportVectorMachine(kernel = linear_kernel, C=1.0)"
   ]
  },
  {
   "cell_type": "code",
   "execution_count": 97,
   "metadata": {},
   "outputs": [],
   "source": [
    "fair_SVM_low.fit(X_low,y_low,z_low_normal,c=0.5)"
   ]
  },
  {
   "cell_type": "code",
   "execution_count": 98,
   "metadata": {},
   "outputs": [],
   "source": [
    "y_pred = fair_SVM_low.predict(X_low)\n",
    "# Model Accuracy: how often is the classifier correct?\n"
   ]
  },
  {
   "cell_type": "code",
   "execution_count": 99,
   "metadata": {},
   "outputs": [
    {
     "name": "stdout",
     "output_type": "stream",
     "text": [
      "Fair_SVM intercept =  0.014631379405155683\n",
      "Fair_SVM weights =  [0.00372544 0.11569797]\n",
      "Fair_SVM Accuracy: 0.846\n"
     ]
    }
   ],
   "source": [
    "# Print fair_SVM weights and intercept\n",
    "print(\"Fair_SVM intercept = \",np.mean(fair_SVM_low.b1))\n",
    "print(\"Fair_SVM weights = \",fair_SVM_low.w.flatten())\n",
    "print(\"Fair_SVM Accuracy:\",metrics.accuracy_score(y_low, y_pred))"
   ]
  },
  {
   "cell_type": "code",
   "execution_count": 100,
   "metadata": {},
   "outputs": [
    {
     "name": "stdout",
     "output_type": "stream",
     "text": [
      "Sklearn intercept =  [-0.00913818]\n",
      "Sklearn weights =  [0.2757715  0.58106685]\n",
      "Sklearn Accuracy: 0.866\n"
     ]
    }
   ],
   "source": [
    "# Compare with unfair sklearn weights and intercept\n",
    "print(\"Sklearn intercept = \",clf.intercept_)\n",
    "print(\"Sklearn weights = \",clf.coef_.flatten())\n",
    "print(\"Sklearn Accuracy:\",metrics.accuracy_score(y_low, clf.predict(X_low)))"
   ]
  },
  {
   "cell_type": "code",
   "execution_count": 101,
   "metadata": {},
   "outputs": [
    {
     "data": {
      "text/plain": [
       "<matplotlib.legend.Legend at 0x1ff00cf00f0>"
      ]
     },
     "execution_count": 101,
     "metadata": {},
     "output_type": "execute_result"
    },
    {
     "data": {
      "image/png": "[encoded data removed]",
      "text/plain": [
       "<Figure size 432x288 with 1 Axes>"
      ]
     },
     "metadata": {
      "needs_background": "light"
     },
     "output_type": "display_data"
    }
   ],
   "source": [
    "# Overlay decision boundaries\n",
    "xfit = np.linspace(-15, 10)\n",
    "plt.scatter(X_low[:, 0], X_low[:, 1], c=y_low[:], s=50, cmap='autumn')\n",
    "\n",
    "# fair SVM decision boundary\n",
    "plt.plot(xfit, (-fair_SVM_low.w[0,0] * xfit-np.mean(fair_SVM_low.b1))/fair_SVM_low.w[1,0], '-k', label = \"fair\")\n",
    "\n",
    "# skleanr unfair decision boundary\n",
    "plt.plot(xfit, (-clf.coef_[0,0] * xfit-clf.intercept_[0])/clf.coef_[0,1], '-b', label = \"sklearn\")\n",
    "\n",
    "plt.xlim(-15, 10);\n",
    "plt.title(\"Linear SVM decision boundary for sklearn and fair cvxopt implementations\")\n",
    "plt.legend()"
   ]
  },
  {
   "cell_type": "code",
   "execution_count": 102,
   "metadata": {},
   "outputs": [
    {
     "data": {
      "text/plain": [
       "34.18751154675819"
      ]
     },
     "execution_count": 102,
     "metadata": {},
     "output_type": "execute_result"
    }
   ],
   "source": [
    "compute_p_rule(x_control_low[\"s1\"],y_pred)"
   ]
  },
  {
   "cell_type": "markdown",
   "metadata": {},
   "source": [
    "## No change in the accuracy or decision boundary with the fair SVM implementation. The SVM weights have changed (~ 1/2 the value of the unfair classifier's weights) but the decision boundary slope has not"
   ]
  },
  {
   "cell_type": "code",
   "execution_count": 105,
   "metadata": {},
   "outputs": [],
   "source": [
    "thresholds = [1, 0.8, 0.5, 0.1, 0.08, 0.05, 0.01, 0.008, 0.005] \n",
    "record = np.zeros((len(thresholds),5))\n",
    "for i,c_threshold in enumerate(thresholds):\n",
    "    fair_SVM_low = Fair_SupportVectorMachine(kernel = linear_kernel, C=1.0)\n",
    "    fair_SVM_low.fit(X_low,y_low,z_low_normal,c=c_threshold)\n",
    "    y_pred = fair_SVM_low.predict(X_low)\n",
    "    record[i,0] = metrics.accuracy_score(y_low, y_pred)\n",
    "    record[i,1] = np.mean(fair_SVM_low.b1)\n",
    "    record[i,2] = fair_SVM_low.w[0,0]\n",
    "    record[i,3] = fair_SVM_low.w[1,0]\n",
    "    record[i,4] = compute_p_rule(x_control_low[\"s1\"], y_pred)"
   ]
  },
  {
   "cell_type": "code",
   "execution_count": 106,
   "metadata": {},
   "outputs": [
    {
     "data": {
      "text/plain": [
       "array([[ 8.69000000e-01,  1.72332144e-02,  6.19231273e-02,\n",
       "         1.90326019e-01,  4.04202570e+01],\n",
       "       [ 8.68000000e-01,  1.62401682e-02,  3.84448766e-02,\n",
       "         1.60609323e-01,  3.96106633e+01],\n",
       "       [ 8.46000000e-01,  1.46313794e-02,  3.72544315e-03,\n",
       "         1.15697973e-01,  3.41875115e+01],\n",
       "       [ 8.33500000e-01, -4.69926038e-03, -5.21298410e-04,\n",
       "         2.21170473e-02,  2.99922536e+01],\n",
       "       [ 8.40500000e-01, -5.55607049e-03,  9.39261457e-05,\n",
       "         1.83678921e-02,  3.00260530e+01],\n",
       "       [ 8.27500000e-01, -6.07960944e-03, -2.07441172e-04,\n",
       "         1.12367156e-02,  2.61682187e+01],\n",
       "       [ 5.86000000e-01, -7.82674065e-03, -3.85830753e-04,\n",
       "         2.07516513e-03,  5.84357967e+00],\n",
       "       [ 5.00500000e-01, -8.76470071e-03, -8.34463541e-04,\n",
       "         1.04273669e-03,  0.00000000e+00],\n",
       "       [ 4.55500000e-01, -8.06267239e-03, -1.25303128e-03,\n",
       "        -7.10018619e-05,  1.45139709e+02]])"
      ]
     },
     "execution_count": 106,
     "metadata": {},
     "output_type": "execute_result"
    }
   ],
   "source": [
    "record"
   ]
  },
  {
   "cell_type": "code",
   "execution_count": 119,
   "metadata": {},
   "outputs": [
    {
     "data": {
      "text/plain": [
       "(-10, 15)"
      ]
     },
     "execution_count": 119,
     "metadata": {},
     "output_type": "execute_result"
    },
    {
     "data": {
      "image/png": "[encoded data removed]",
      "text/plain": [
       "<Figure size 720x432 with 1 Axes>"
      ]
     },
     "metadata": {
      "needs_background": "light"
     },
     "output_type": "display_data"
    }
   ],
   "source": [
    "plt.figure(figsize=(10,6))\n",
    "xfit = np.linspace(-15, 10)\n",
    "plt.scatter(X_low[:, 0], X_low[:, 1], c=y_low[:], s=50, cmap='autumn')\n",
    "colors = ['b', 'g', 'r', 'c', 'm', 'y', 'k', 'w', 'b']\n",
    "for row in range(record.shape[0]):\n",
    "    # fair SVM decision boundary\n",
    "    plt.plot(xfit, (-record[row,2] * xfit-record[row,1])/record[row,3], c = colors[row], label = str(thresholds[row]))\n",
    "plt.legend()\n",
    "plt.ylim(-10,15)"
   ]
  },
  {
   "cell_type": "code",
   "execution_count": 120,
   "metadata": {},
   "outputs": [
    {
     "data": {
      "text/plain": [
       "Text(0, 0.5, 'Accuracy')"
      ]
     },
     "execution_count": 120,
     "metadata": {},
     "output_type": "execute_result"
    },
    {
     "data": {
      "image/png": "[encoded data removed]",
      "text/plain": [
       "<Figure size 1080x432 with 3 Axes>"
      ]
     },
     "metadata": {
      "needs_background": "light"
     },
     "output_type": "display_data"
    }
   ],
   "source": [
    "plt.figure(figsize=(15,6))\n",
    "plt.subplot(131)\n",
    "plt.plot(thresholds,record[:,4])\n",
    "plt.title(\"P-rule vs covariance threshold\")\n",
    "plt.xlabel(\"Covariance threshold\")\n",
    "plt.ylabel(\"P-rule\")\n",
    "plt.subplot(132)\n",
    "plt.plot(thresholds, record[:,0])\n",
    "plt.title(\"Accuracy vs covariance threshold\")\n",
    "plt.xlabel(\"Covariance threshold\")\n",
    "plt.ylabel(\"Accuracy\")\n",
    "plt.subplot(133)\n",
    "plt.plot(record[:,4],record[:,0])\n",
    "plt.title(\"Accuracy vs p-rule\")\n",
    "plt.xlabel(\"P-rule\")\n",
    "plt.ylabel(\"Accuracy\")"
   ]
  },
  {
   "cell_type": "markdown",
   "metadata": {},
   "source": [
    "# <font color = \"red\"> Below here the notebook is WIP, importing and processing bank data set to prepare for fair SVM fitting </font>"
   ]
  },
  {
   "cell_type": "markdown",
   "metadata": {},
   "source": [
    "http://www.nathanielhobbs.com/documents/cvx_opt/cvx_opt_final_report.pdf"
   ]
  },
  {
   "cell_type": "code",
   "execution_count": 678,
   "metadata": {},
   "outputs": [],
   "source": [
    "def compute_p_rule(x_control, class_labels):\n",
    "\n",
    "    \"\"\" Compute the p-rule based on Doctrine of disparate impact \"\"\"\n",
    "\n",
    "    non_prot_all = sum(x_control == 1.0) # non-protected group\n",
    "    prot_all = sum(x_control == 0.0) # protected group\n",
    "    non_prot_pos = sum(class_labels[x_control == 1.0] == 1.0) # non_protected in positive class\n",
    "    prot_pos = sum(class_labels[x_control == 0.0] == 1.0) # protected in positive class\n",
    "    frac_non_prot_pos = float(non_prot_pos) / float(non_prot_all)\n",
    "    frac_prot_pos = float(prot_pos) / float(prot_all)\n",
    "    p_rule = (frac_prot_pos / frac_non_prot_pos) * 100.0\n",
    "    #print\n",
    "    #print \"Total data points: %d\" % (len(x_control))\n",
    "    #print \"# non-protected examples: %d\" % (non_prot_all)\n",
    "    #print \"# protected examples: %d\" % (prot_all)\n",
    "    #print \"Non-protected in positive class: %d (%0.0f%%)\" % (non_prot_pos, non_prot_pos * 100.0 / non_prot_all)\n",
    "    #print \"Protected in positive class: %d (%0.0f%%)\" % (prot_pos, prot_pos * 100.0 / prot_all)\n",
    "    #print \"P-rule is: %0.0f%%\" % ( p_rule )\n",
    "    return p_rule"
   ]
  },
  {
   "cell_type": "code",
   "execution_count": 682,
   "metadata": {},
   "outputs": [
    {
     "data": {
      "text/plain": [
       "47.90144110402635"
      ]
     },
     "execution_count": 682,
     "metadata": {},
     "output_type": "execute_result"
    }
   ],
   "source": [
    "compute_p_rule(x_control_low[\"s1\"],y_low)"
   ]
  },
  {
   "cell_type": "code",
   "execution_count": 7,
   "metadata": {},
   "outputs": [],
   "source": [
    "import pandas as pd"
   ]
  },
  {
   "cell_type": "code",
   "execution_count": 8,
   "metadata": {},
   "outputs": [],
   "source": [
    "df = pd.read_csv(\"bank.csv\",sep=';',header='infer')"
   ]
  },
  {
   "cell_type": "code",
   "execution_count": 9,
   "metadata": {},
   "outputs": [
    {
     "name": "stdout",
     "output_type": "stream",
     "text": [
      "<class 'pandas.core.frame.DataFrame'>\n",
      "RangeIndex: 4521 entries, 0 to 4520\n",
      "Data columns (total 17 columns):\n",
      "age          4521 non-null int64\n",
      "job          4521 non-null object\n",
      "marital      4521 non-null object\n",
      "education    4521 non-null object\n",
      "default      4521 non-null object\n",
      "balance      4521 non-null int64\n",
      "housing      4521 non-null object\n",
      "loan         4521 non-null object\n",
      "contact      4521 non-null object\n",
      "day          4521 non-null int64\n",
      "month        4521 non-null object\n",
      "duration     4521 non-null int64\n",
      "campaign     4521 non-null int64\n",
      "pdays        4521 non-null int64\n",
      "previous     4521 non-null int64\n",
      "poutcome     4521 non-null object\n",
      "y            4521 non-null object\n",
      "dtypes: int64(7), object(10)\n",
      "memory usage: 600.5+ KB\n"
     ]
    }
   ],
   "source": [
    "df.info()"
   ]
  },
  {
   "cell_type": "code",
   "execution_count": 10,
   "metadata": {},
   "outputs": [
    {
     "data": {
      "text/html": [
       "<div>\n",
       "<style scoped>\n",
       "    .dataframe tbody tr th:only-of-type {\n",
       "        vertical-align: middle;\n",
       "    }\n",
       "\n",
       "    .dataframe tbody tr th {\n",
       "        vertical-align: top;\n",
       "    }\n",
       "\n",
       "    .dataframe thead th {\n",
       "        text-align: right;\n",
       "    }\n",
       "</style>\n",
       "<table border=\"1\" class=\"dataframe\">\n",
       "  <thead>\n",
       "    <tr style=\"text-align: right;\">\n",
       "      <th></th>\n",
       "      <th>age</th>\n",
       "      <th>job</th>\n",
       "      <th>marital</th>\n",
       "      <th>education</th>\n",
       "      <th>default</th>\n",
       "      <th>balance</th>\n",
       "      <th>housing</th>\n",
       "      <th>loan</th>\n",
       "      <th>contact</th>\n",
       "      <th>day</th>\n",
       "      <th>month</th>\n",
       "      <th>duration</th>\n",
       "      <th>campaign</th>\n",
       "      <th>pdays</th>\n",
       "      <th>previous</th>\n",
       "      <th>poutcome</th>\n",
       "      <th>y</th>\n",
       "    </tr>\n",
       "  </thead>\n",
       "  <tbody>\n",
       "    <tr>\n",
       "      <th>0</th>\n",
       "      <td>30</td>\n",
       "      <td>unemployed</td>\n",
       "      <td>married</td>\n",
       "      <td>primary</td>\n",
       "      <td>no</td>\n",
       "      <td>1787</td>\n",
       "      <td>no</td>\n",
       "      <td>no</td>\n",
       "      <td>cellular</td>\n",
       "      <td>19</td>\n",
       "      <td>oct</td>\n",
       "      <td>79</td>\n",
       "      <td>1</td>\n",
       "      <td>-1</td>\n",
       "      <td>0</td>\n",
       "      <td>unknown</td>\n",
       "      <td>no</td>\n",
       "    </tr>\n",
       "    <tr>\n",
       "      <th>1</th>\n",
       "      <td>33</td>\n",
       "      <td>services</td>\n",
       "      <td>married</td>\n",
       "      <td>secondary</td>\n",
       "      <td>no</td>\n",
       "      <td>4789</td>\n",
       "      <td>yes</td>\n",
       "      <td>yes</td>\n",
       "      <td>cellular</td>\n",
       "      <td>11</td>\n",
       "      <td>may</td>\n",
       "      <td>220</td>\n",
       "      <td>1</td>\n",
       "      <td>339</td>\n",
       "      <td>4</td>\n",
       "      <td>failure</td>\n",
       "      <td>no</td>\n",
       "    </tr>\n",
       "    <tr>\n",
       "      <th>2</th>\n",
       "      <td>35</td>\n",
       "      <td>management</td>\n",
       "      <td>single</td>\n",
       "      <td>tertiary</td>\n",
       "      <td>no</td>\n",
       "      <td>1350</td>\n",
       "      <td>yes</td>\n",
       "      <td>no</td>\n",
       "      <td>cellular</td>\n",
       "      <td>16</td>\n",
       "      <td>apr</td>\n",
       "      <td>185</td>\n",
       "      <td>1</td>\n",
       "      <td>330</td>\n",
       "      <td>1</td>\n",
       "      <td>failure</td>\n",
       "      <td>no</td>\n",
       "    </tr>\n",
       "    <tr>\n",
       "      <th>3</th>\n",
       "      <td>30</td>\n",
       "      <td>management</td>\n",
       "      <td>married</td>\n",
       "      <td>tertiary</td>\n",
       "      <td>no</td>\n",
       "      <td>1476</td>\n",
       "      <td>yes</td>\n",
       "      <td>yes</td>\n",
       "      <td>unknown</td>\n",
       "      <td>3</td>\n",
       "      <td>jun</td>\n",
       "      <td>199</td>\n",
       "      <td>4</td>\n",
       "      <td>-1</td>\n",
       "      <td>0</td>\n",
       "      <td>unknown</td>\n",
       "      <td>no</td>\n",
       "    </tr>\n",
       "    <tr>\n",
       "      <th>4</th>\n",
       "      <td>59</td>\n",
       "      <td>blue-collar</td>\n",
       "      <td>married</td>\n",
       "      <td>secondary</td>\n",
       "      <td>no</td>\n",
       "      <td>0</td>\n",
       "      <td>yes</td>\n",
       "      <td>no</td>\n",
       "      <td>unknown</td>\n",
       "      <td>5</td>\n",
       "      <td>may</td>\n",
       "      <td>226</td>\n",
       "      <td>1</td>\n",
       "      <td>-1</td>\n",
       "      <td>0</td>\n",
       "      <td>unknown</td>\n",
       "      <td>no</td>\n",
       "    </tr>\n",
       "  </tbody>\n",
       "</table>\n",
       "</div>"
      ],
      "text/plain": [
       "   age          job  marital  education default  balance housing loan  \\\n",
       "0   30   unemployed  married    primary      no     1787      no   no   \n",
       "1   33     services  married  secondary      no     4789     yes  yes   \n",
       "2   35   management   single   tertiary      no     1350     yes   no   \n",
       "3   30   management  married   tertiary      no     1476     yes  yes   \n",
       "4   59  blue-collar  married  secondary      no        0     yes   no   \n",
       "\n",
       "    contact  day month  duration  campaign  pdays  previous poutcome   y  \n",
       "0  cellular   19   oct        79         1     -1         0  unknown  no  \n",
       "1  cellular   11   may       220         1    339         4  failure  no  \n",
       "2  cellular   16   apr       185         1    330         1  failure  no  \n",
       "3   unknown    3   jun       199         4     -1         0  unknown  no  \n",
       "4   unknown    5   may       226         1     -1         0  unknown  no  "
      ]
     },
     "execution_count": 10,
     "metadata": {},
     "output_type": "execute_result"
    }
   ],
   "source": [
    "df.head()"
   ]
  },
  {
   "cell_type": "code",
   "execution_count": 11,
   "metadata": {},
   "outputs": [],
   "source": [
    "y_bank = [1 if yy == \"yes\" else -1 for yy in df[\"y\"]]\n",
    "df.pop(\"y\")\n",
    "X_bank = pd.get_dummies(df)"
   ]
  },
  {
   "cell_type": "code",
   "execution_count": 13,
   "metadata": {},
   "outputs": [
    {
     "data": {
      "text/html": [
       "<div>\n",
       "<style scoped>\n",
       "    .dataframe tbody tr th:only-of-type {\n",
       "        vertical-align: middle;\n",
       "    }\n",
       "\n",
       "    .dataframe tbody tr th {\n",
       "        vertical-align: top;\n",
       "    }\n",
       "\n",
       "    .dataframe thead th {\n",
       "        text-align: right;\n",
       "    }\n",
       "</style>\n",
       "<table border=\"1\" class=\"dataframe\">\n",
       "  <thead>\n",
       "    <tr style=\"text-align: right;\">\n",
       "      <th></th>\n",
       "      <th>age</th>\n",
       "      <th>balance</th>\n",
       "      <th>day</th>\n",
       "      <th>duration</th>\n",
       "      <th>campaign</th>\n",
       "      <th>pdays</th>\n",
       "      <th>previous</th>\n",
       "      <th>job_admin.</th>\n",
       "      <th>job_blue-collar</th>\n",
       "      <th>job_entrepreneur</th>\n",
       "      <th>...</th>\n",
       "      <th>month_jun</th>\n",
       "      <th>month_mar</th>\n",
       "      <th>month_may</th>\n",
       "      <th>month_nov</th>\n",
       "      <th>month_oct</th>\n",
       "      <th>month_sep</th>\n",
       "      <th>poutcome_failure</th>\n",
       "      <th>poutcome_other</th>\n",
       "      <th>poutcome_success</th>\n",
       "      <th>poutcome_unknown</th>\n",
       "    </tr>\n",
       "  </thead>\n",
       "  <tbody>\n",
       "    <tr>\n",
       "      <th>0</th>\n",
       "      <td>30</td>\n",
       "      <td>1787</td>\n",
       "      <td>19</td>\n",
       "      <td>79</td>\n",
       "      <td>1</td>\n",
       "      <td>-1</td>\n",
       "      <td>0</td>\n",
       "      <td>0</td>\n",
       "      <td>0</td>\n",
       "      <td>0</td>\n",
       "      <td>...</td>\n",
       "      <td>0</td>\n",
       "      <td>0</td>\n",
       "      <td>0</td>\n",
       "      <td>0</td>\n",
       "      <td>1</td>\n",
       "      <td>0</td>\n",
       "      <td>0</td>\n",
       "      <td>0</td>\n",
       "      <td>0</td>\n",
       "      <td>1</td>\n",
       "    </tr>\n",
       "    <tr>\n",
       "      <th>1</th>\n",
       "      <td>33</td>\n",
       "      <td>4789</td>\n",
       "      <td>11</td>\n",
       "      <td>220</td>\n",
       "      <td>1</td>\n",
       "      <td>339</td>\n",
       "      <td>4</td>\n",
       "      <td>0</td>\n",
       "      <td>0</td>\n",
       "      <td>0</td>\n",
       "      <td>...</td>\n",
       "      <td>0</td>\n",
       "      <td>0</td>\n",
       "      <td>1</td>\n",
       "      <td>0</td>\n",
       "      <td>0</td>\n",
       "      <td>0</td>\n",
       "      <td>1</td>\n",
       "      <td>0</td>\n",
       "      <td>0</td>\n",
       "      <td>0</td>\n",
       "    </tr>\n",
       "    <tr>\n",
       "      <th>2</th>\n",
       "      <td>35</td>\n",
       "      <td>1350</td>\n",
       "      <td>16</td>\n",
       "      <td>185</td>\n",
       "      <td>1</td>\n",
       "      <td>330</td>\n",
       "      <td>1</td>\n",
       "      <td>0</td>\n",
       "      <td>0</td>\n",
       "      <td>0</td>\n",
       "      <td>...</td>\n",
       "      <td>0</td>\n",
       "      <td>0</td>\n",
       "      <td>0</td>\n",
       "      <td>0</td>\n",
       "      <td>0</td>\n",
       "      <td>0</td>\n",
       "      <td>1</td>\n",
       "      <td>0</td>\n",
       "      <td>0</td>\n",
       "      <td>0</td>\n",
       "    </tr>\n",
       "    <tr>\n",
       "      <th>3</th>\n",
       "      <td>30</td>\n",
       "      <td>1476</td>\n",
       "      <td>3</td>\n",
       "      <td>199</td>\n",
       "      <td>4</td>\n",
       "      <td>-1</td>\n",
       "      <td>0</td>\n",
       "      <td>0</td>\n",
       "      <td>0</td>\n",
       "      <td>0</td>\n",
       "      <td>...</td>\n",
       "      <td>1</td>\n",
       "      <td>0</td>\n",
       "      <td>0</td>\n",
       "      <td>0</td>\n",
       "      <td>0</td>\n",
       "      <td>0</td>\n",
       "      <td>0</td>\n",
       "      <td>0</td>\n",
       "      <td>0</td>\n",
       "      <td>1</td>\n",
       "    </tr>\n",
       "    <tr>\n",
       "      <th>4</th>\n",
       "      <td>59</td>\n",
       "      <td>0</td>\n",
       "      <td>5</td>\n",
       "      <td>226</td>\n",
       "      <td>1</td>\n",
       "      <td>-1</td>\n",
       "      <td>0</td>\n",
       "      <td>0</td>\n",
       "      <td>1</td>\n",
       "      <td>0</td>\n",
       "      <td>...</td>\n",
       "      <td>0</td>\n",
       "      <td>0</td>\n",
       "      <td>1</td>\n",
       "      <td>0</td>\n",
       "      <td>0</td>\n",
       "      <td>0</td>\n",
       "      <td>0</td>\n",
       "      <td>0</td>\n",
       "      <td>0</td>\n",
       "      <td>1</td>\n",
       "    </tr>\n",
       "  </tbody>\n",
       "</table>\n",
       "<p>5 rows × 51 columns</p>\n",
       "</div>"
      ],
      "text/plain": [
       "   age  balance  day  duration  campaign  pdays  previous  job_admin.  \\\n",
       "0   30     1787   19        79         1     -1         0           0   \n",
       "1   33     4789   11       220         1    339         4           0   \n",
       "2   35     1350   16       185         1    330         1           0   \n",
       "3   30     1476    3       199         4     -1         0           0   \n",
       "4   59        0    5       226         1     -1         0           0   \n",
       "\n",
       "   job_blue-collar  job_entrepreneur  ...  month_jun  month_mar  month_may  \\\n",
       "0                0                 0  ...          0          0          0   \n",
       "1                0                 0  ...          0          0          1   \n",
       "2                0                 0  ...          0          0          0   \n",
       "3                0                 0  ...          1          0          0   \n",
       "4                1                 0  ...          0          0          1   \n",
       "\n",
       "   month_nov  month_oct  month_sep  poutcome_failure  poutcome_other  \\\n",
       "0          0          1          0                 0               0   \n",
       "1          0          0          0                 1               0   \n",
       "2          0          0          0                 1               0   \n",
       "3          0          0          0                 0               0   \n",
       "4          0          0          0                 0               0   \n",
       "\n",
       "   poutcome_success  poutcome_unknown  \n",
       "0                 0                 1  \n",
       "1                 0                 0  \n",
       "2                 0                 0  \n",
       "3                 0                 1  \n",
       "4                 0                 1  \n",
       "\n",
       "[5 rows x 51 columns]"
      ]
     },
     "execution_count": 13,
     "metadata": {},
     "output_type": "execute_result"
    }
   ],
   "source": [
    "X_bank.head()"
   ]
  },
  {
   "cell_type": "code",
   "execution_count": 15,
   "metadata": {},
   "outputs": [
    {
     "name": "stdout",
     "output_type": "stream",
     "text": [
      "<class 'pandas.core.frame.DataFrame'>\n",
      "RangeIndex: 4521 entries, 0 to 4520\n",
      "Data columns (total 51 columns):\n",
      "age                    4521 non-null int64\n",
      "balance                4521 non-null int64\n",
      "day                    4521 non-null int64\n",
      "duration               4521 non-null int64\n",
      "campaign               4521 non-null int64\n",
      "pdays                  4521 non-null int64\n",
      "previous               4521 non-null int64\n",
      "job_admin.             4521 non-null uint8\n",
      "job_blue-collar        4521 non-null uint8\n",
      "job_entrepreneur       4521 non-null uint8\n",
      "job_housemaid          4521 non-null uint8\n",
      "job_management         4521 non-null uint8\n",
      "job_retired            4521 non-null uint8\n",
      "job_self-employed      4521 non-null uint8\n",
      "job_services           4521 non-null uint8\n",
      "job_student            4521 non-null uint8\n",
      "job_technician         4521 non-null uint8\n",
      "job_unemployed         4521 non-null uint8\n",
      "job_unknown            4521 non-null uint8\n",
      "marital_divorced       4521 non-null uint8\n",
      "marital_married        4521 non-null uint8\n",
      "marital_single         4521 non-null uint8\n",
      "education_primary      4521 non-null uint8\n",
      "education_secondary    4521 non-null uint8\n",
      "education_tertiary     4521 non-null uint8\n",
      "education_unknown      4521 non-null uint8\n",
      "default_no             4521 non-null uint8\n",
      "default_yes            4521 non-null uint8\n",
      "housing_no             4521 non-null uint8\n",
      "housing_yes            4521 non-null uint8\n",
      "loan_no                4521 non-null uint8\n",
      "loan_yes               4521 non-null uint8\n",
      "contact_cellular       4521 non-null uint8\n",
      "contact_telephone      4521 non-null uint8\n",
      "contact_unknown        4521 non-null uint8\n",
      "month_apr              4521 non-null uint8\n",
      "month_aug              4521 non-null uint8\n",
      "month_dec              4521 non-null uint8\n",
      "month_feb              4521 non-null uint8\n",
      "month_jan              4521 non-null uint8\n",
      "month_jul              4521 non-null uint8\n",
      "month_jun              4521 non-null uint8\n",
      "month_mar              4521 non-null uint8\n",
      "month_may              4521 non-null uint8\n",
      "month_nov              4521 non-null uint8\n",
      "month_oct              4521 non-null uint8\n",
      "month_sep              4521 non-null uint8\n",
      "poutcome_failure       4521 non-null uint8\n",
      "poutcome_other         4521 non-null uint8\n",
      "poutcome_success       4521 non-null uint8\n",
      "poutcome_unknown       4521 non-null uint8\n",
      "dtypes: int64(7), uint8(44)\n",
      "memory usage: 441.6 KB\n"
     ]
    }
   ],
   "source": [
    "X_bank.info()"
   ]
  },
  {
   "cell_type": "code",
   "execution_count": 16,
   "metadata": {},
   "outputs": [],
   "source": [
    "z_age = [1 if yy > 25 and yy < 60 else 0 for yy in X_bank[\"age\"]]"
   ]
  },
  {
   "cell_type": "code",
   "execution_count": 22,
   "metadata": {},
   "outputs": [],
   "source": [
    "mean_age = np.mean(z_age)"
   ]
  },
  {
   "cell_type": "code",
   "execution_count": 19,
   "metadata": {},
   "outputs": [
    {
     "data": {
      "text/plain": [
       "0       30\n",
       "1       33\n",
       "2       35\n",
       "3       30\n",
       "4       59\n",
       "5       35\n",
       "6       36\n",
       "7       39\n",
       "8       41\n",
       "9       43\n",
       "10      39\n",
       "11      43\n",
       "12      36\n",
       "13      20\n",
       "14      31\n",
       "15      40\n",
       "16      56\n",
       "17      37\n",
       "18      25\n",
       "19      31\n",
       "20      38\n",
       "21      42\n",
       "22      44\n",
       "23      44\n",
       "24      26\n",
       "25      41\n",
       "26      55\n",
       "27      67\n",
       "28      56\n",
       "29      53\n",
       "        ..\n",
       "4491    35\n",
       "4492    32\n",
       "4493    28\n",
       "4494    26\n",
       "4495    48\n",
       "4496    30\n",
       "4497    31\n",
       "4498    31\n",
       "4499    45\n",
       "4500    38\n",
       "4501    34\n",
       "4502    42\n",
       "4503    60\n",
       "4504    42\n",
       "4505    32\n",
       "4506    42\n",
       "4507    33\n",
       "4508    42\n",
       "4509    51\n",
       "4510    36\n",
       "4511    46\n",
       "4512    40\n",
       "4513    49\n",
       "4514    38\n",
       "4515    32\n",
       "4516    33\n",
       "4517    57\n",
       "4518    57\n",
       "4519    28\n",
       "4520    44\n",
       "Name: age, Length: 4521, dtype: int64"
      ]
     },
     "execution_count": 19,
     "metadata": {},
     "output_type": "execute_result"
    }
   ],
   "source": [
    "X_bank.pop(\"age\")"
   ]
  },
  {
   "cell_type": "code",
   "execution_count": 811,
   "metadata": {},
   "outputs": [],
   "source": [
    "import os,sys\n",
    "from random import seed, shuffle\n",
    "SEED = 1122334455\n",
    "seed(SEED) # set the random seed so that the random permutations can be reproduced again\n",
    "np.random.seed(SEED)\n",
    "def get_one_hot_encoding(in_arr):\n",
    "    \"\"\"\n",
    "        input: 1-D arr with int vals -- if not int vals, will raise an error\n",
    "        output: m (ndarray): one-hot encoded matrix\n",
    "                d (dict): also returns a dictionary original_val -> column in encoded matrix\n",
    "    \"\"\"\n",
    "\n",
    "    for k in in_arr:\n",
    "        if str(type(k)) != \"<type 'numpy.float64'>\" and type(k) != int and type(k) != np.int64:\n",
    "            print(str(type(k)))\n",
    "            print(\"************* ERROR: Input arr does not have integer types\")\n",
    "            return None\n",
    "        \n",
    "    in_arr = np.array(in_arr, dtype=int)\n",
    "    assert(len(in_arr.shape)==1) # no column, means it was a 1-D arr\n",
    "    attr_vals_uniq_sorted = sorted(list(set(in_arr)))\n",
    "    num_uniq_vals = len(attr_vals_uniq_sorted)\n",
    "    if (num_uniq_vals == 2) and (attr_vals_uniq_sorted[0] == 0 and attr_vals_uniq_sorted[1] == 1):\n",
    "        return in_arr, None\n",
    "\n",
    "    \n",
    "    index_dict = {} # value to the column number\n",
    "    for i in range(0,len(attr_vals_uniq_sorted)):\n",
    "        val = attr_vals_uniq_sorted[i]\n",
    "        index_dict[val] = i\n",
    "\n",
    "    out_arr = []    \n",
    "    for i in range(0,len(in_arr)):\n",
    "        tup = np.zeros(num_uniq_vals)\n",
    "        val = in_arr[i]\n",
    "        ind = index_dict[val]\n",
    "        tup[ind] = 1 # set that value of tuple to 1\n",
    "        out_arr.append(tup)\n",
    "\n",
    "    return np.array(out_arr), index_dict\n",
    "\n",
    "def load_adult_data(load_data_size=None):\n",
    "\n",
    "    \"\"\"\n",
    "        if load_data_size is set to None (or if no argument is provided), then we load and return the whole data\n",
    "        if it is a number, say 10000, then we will return randomly selected 10K examples\n",
    "    \"\"\"\n",
    "\n",
    "    attrs = ['age', 'workclass', 'fnlwgt', 'education', 'education_num', 'marital_status', 'occupation', 'relationship', 'race', 'sex', 'capital_gain', 'capital_loss', 'hours_per_week', 'native_country'] # all attributes\n",
    "    int_attrs = ['age', 'fnlwgt', 'education_num', 'capital_gain', 'capital_loss', 'hours_per_week'] # attributes with integer values -- the rest are categorical\n",
    "    sensitive_attrs = ['sex'] # the fairness constraints will be used for this feature\n",
    "    attrs_to_ignore = ['sex', 'race' ,'fnlwgt'] # sex and race are sensitive feature so we will not use them in classification, we will not consider fnlwght for classification since its computed externally and it highly predictive for the class (for details, see documentation of the adult data)\n",
    "    attrs_for_classification = set(attrs) - set(attrs_to_ignore)\n",
    "\n",
    "    # adult data comes in two different files, one for training and one for testing, however, we will combine data from both the files\n",
    "    data_files = [\"adultdata.txt\"]\n",
    "\n",
    "\n",
    "\n",
    "    X = []\n",
    "    y = []\n",
    "    x_control = {}\n",
    "\n",
    "    attrs_to_vals = {} # will store the values for each attribute for all users\n",
    "    for k in attrs:\n",
    "        if k in sensitive_attrs:\n",
    "            x_control[k] = []\n",
    "        elif k in attrs_to_ignore:\n",
    "            pass\n",
    "        else:\n",
    "            attrs_to_vals[k] = []\n",
    "\n",
    "    for f in data_files:\n",
    "        \n",
    "        for line in open(f):\n",
    "            line = line.strip()\n",
    "            if line == \"\": continue # skip empty lines\n",
    "            line = line.split(\", \")\n",
    "            if len(line) != 15 or \"?\" in line: # if a line has missing attributes, ignore it\n",
    "                continue\n",
    "\n",
    "            class_label = line[-1]\n",
    "            if class_label in [\"<=50K.\", \"<=50K\"]:\n",
    "                class_label = -1\n",
    "            elif class_label in [\">50K.\", \">50K\"]:\n",
    "                class_label = +1\n",
    "            else:\n",
    "                raise Exception(\"Invalid class label value\")\n",
    "\n",
    "            y.append(class_label)\n",
    "\n",
    "\n",
    "            for i in range(0,len(line)-1):\n",
    "                attr_name = attrs[i]\n",
    "                attr_val = line[i]\n",
    "                # reducing dimensionality of some very sparse features\n",
    "                if attr_name == \"native_country\":\n",
    "                    if attr_val!=\"United-States\":\n",
    "                        attr_val = \"Non-United-Stated\"\n",
    "                elif attr_name == \"education\":\n",
    "                    if attr_val in [\"Preschool\", \"1st-4th\", \"5th-6th\", \"7th-8th\"]:\n",
    "                        attr_val = \"prim-middle-school\"\n",
    "                    elif attr_val in [\"9th\", \"10th\", \"11th\", \"12th\"]:\n",
    "                        attr_val = \"high-school\"\n",
    "\n",
    "                if attr_name in sensitive_attrs:\n",
    "                    x_control[attr_name].append(attr_val)\n",
    "                elif attr_name in attrs_to_ignore:\n",
    "                    pass\n",
    "                else:\n",
    "                    attrs_to_vals[attr_name].append(attr_val)\n",
    "\n",
    "    def convert_attrs_to_ints(d): # discretize the string attributes\n",
    "        for attr_name, attr_vals in d.items():\n",
    "            if attr_name in int_attrs: continue\n",
    "            uniq_vals = sorted(list(set(attr_vals))) # get unique values\n",
    "\n",
    "            # compute integer codes for the unique values\n",
    "            val_dict = {}\n",
    "            for i in range(0,len(uniq_vals)):\n",
    "                val_dict[uniq_vals[i]] = i\n",
    "\n",
    "            # replace the values with their integer encoding\n",
    "            for i in range(0,len(attr_vals)):\n",
    "                attr_vals[i] = val_dict[attr_vals[i]]\n",
    "            d[attr_name] = attr_vals\n",
    "\n",
    "    \n",
    "    # convert the discrete values to their integer representations\n",
    "    convert_attrs_to_ints(x_control)\n",
    "    convert_attrs_to_ints(attrs_to_vals)\n",
    "\n",
    "\n",
    "    # if the integer vals are not binary, we need to get one-hot encoding for them\n",
    "    for attr_name in attrs_for_classification:\n",
    "        attr_vals = attrs_to_vals[attr_name]\n",
    "        if attr_name in int_attrs or attr_name == \"native_country\": # the way we encoded native country, its binary now so no need to apply one hot encoding on it\n",
    "            X.append(attr_vals)\n",
    "\n",
    "        else:            \n",
    "            attr_vals, index_dict = get_one_hot_encoding(attr_vals)\n",
    "            for inner_col in attr_vals.T:                \n",
    "                X.append(inner_col) \n",
    "\n",
    "\n",
    "    # convert to numpy arrays for easy handline\n",
    "    X = np.array(X, dtype=float).T\n",
    "    y = np.array(y, dtype = float)\n",
    "    for k, v in x_control.items(): x_control[k] = np.array(v, dtype=float)\n",
    "        \n",
    "    # shuffle the data\n",
    "    perm = [i for i in range(0,len(y))]\n",
    "    #perm = range(0,len(y)) # shuffle the data before creating each fold\n",
    "    shuffle(perm)\n",
    "    X = X[perm]\n",
    "    y = y[perm]\n",
    "    for k in x_control.keys():\n",
    "        x_control[k] = x_control[k][perm]\n",
    "\n",
    "    # see if we need to subsample the data\n",
    "    if load_data_size is not None:\n",
    "        #print \"Loading only %d examples from the data\" % load_data_size\n",
    "        X = X[:load_data_size]\n",
    "        y = y[:load_data_size]\n",
    "        for k in x_control.keys():\n",
    "            x_control[k] = x_control[k][:load_data_size]\n",
    "\n",
    "    return X, y, x_control"
   ]
  },
  {
   "cell_type": "code",
   "execution_count": 812,
   "metadata": {},
   "outputs": [],
   "source": [
    "X_adult, y_adult, x_control_adult = load_adult_data()"
   ]
  },
  {
   "cell_type": "code",
   "execution_count": 816,
   "metadata": {},
   "outputs": [
    {
     "data": {
      "text/plain": [
       "array([1., 1., 1., ..., 1., 0., 1.])"
      ]
     },
     "execution_count": 816,
     "metadata": {},
     "output_type": "execute_result"
    }
   ],
   "source": [
    "x_control_adult[\"sex\"]"
   ]
  },
  {
   "cell_type": "code",
   "execution_count": 47,
   "metadata": {},
   "outputs": [],
   "source": [
    "\n",
    "\n",
    "n_samples, n_features = np.shape(X_low)\n",
    "kernel = linear_kernel\n",
    "C=1 # regularisation term\n",
    "c=0.0004 # covariance threshold\n",
    "\n",
    "kernel_matrix = kernel(X_low,X_low)\n",
    "\n",
    "#kernel_matrix = np.zeros((n_samples, n_samples))\n",
    "#for i in range(n_samples):\n",
    "#    for j in range(n_samples):\n",
    "#        kernel_matrix[i, j] = kernel(X[i], X[j])        \n",
    "        \n",
    "# Define the quadratic optimization problem\n",
    "P = cvxopt.matrix(((kernel_matrix+(1/C)*(np.eye(n_samples)))*(y_low.dot(y_low.T))), tc='d')\n",
    "q = cvxopt.matrix(-np.ones(n_samples))\n",
    "A = cvxopt.matrix(y_low, (1, n_samples), tc='d')\n",
    "b = cvxopt.matrix(0, tc='d')\n",
    "\n",
    "G_1 = np.identity(n_samples) * -1\n",
    "G_2 = (1/n_samples)*(kernel_matrix*np.dot(z_low_normal,y_low.T))\n",
    "G_3 = - (1/n_samples)*(kernel_matrix*np.dot(z_low_normal,y_low.T))\n",
    "#G_4 = np.identity(n_samples)\n",
    "G = cvxopt.matrix(np.vstack((G_1, G_2, G_3)))\n",
    "h_1 = np.zeros(n_samples)\n",
    "h_2 = np.ones(n_samples) * c\n",
    "h_3 = np.ones(n_samples) * c\n",
    "#h_4 = np.ones(n_samples) * C\n",
    "h = cvxopt.matrix(np.vstack((h_1, h_2, h_3)).reshape(-1,1))"
   ]
  }
 ],
 "metadata": {
  "kernelspec": {
   "display_name": "Python 3",
   "language": "python",
   "name": "python3"
  },
  "language_info": {
   "codemirror_mode": {
    "name": "ipython",
    "version": 3
   },
   "file_extension": ".py",
   "mimetype": "text/x-python",
   "name": "python",
   "nbconvert_exporter": "python",
   "pygments_lexer": "ipython3",
   "version": "3.7.3"
  }
 },
 "nbformat": 4,
 "nbformat_minor": 2
}
